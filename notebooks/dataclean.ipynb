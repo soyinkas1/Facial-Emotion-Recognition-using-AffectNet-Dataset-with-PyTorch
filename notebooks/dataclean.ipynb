{
 "cells": [
  {
   "cell_type": "code",
   "execution_count": 2,
   "id": "9556ee3e",
   "metadata": {},
   "outputs": [],
   "source": [
    "import pandas as pd\n",
    "from pathlib import Path"
   ]
  },
  {
   "cell_type": "code",
   "execution_count": 33,
   "id": "9682b2a8",
   "metadata": {},
   "outputs": [
    {
     "name": "stderr",
     "output_type": "stream",
     "text": [
      "<>:1: SyntaxWarning: invalid escape sequence '\\O'\n",
      "<>:2: SyntaxWarning: invalid escape sequence '\\O'\n",
      "<>:1: SyntaxWarning: invalid escape sequence '\\O'\n",
      "<>:2: SyntaxWarning: invalid escape sequence '\\O'\n",
      "C:\\Users\\admin\\AppData\\Local\\Temp\\ipykernel_17920\\2796486145.py:1: SyntaxWarning: invalid escape sequence '\\O'\n",
      "  project_root = Path('D:\\OneDrive\\Documents\\Personal Project Portfolio\\Facial-Emotion-Recognition-using-AffectNet-Dataset-with-PyTorch')\n",
      "C:\\Users\\admin\\AppData\\Local\\Temp\\ipykernel_17920\\2796486145.py:2: SyntaxWarning: invalid escape sequence '\\O'\n",
      "  main_data_path = Path('D:\\OneDrive\\Documents\\Personal Project Portfolio\\Facial-Emotion-Recognition-using-AffectNet-Dataset-with-PyTorch\\data\\labels.csv')\n"
     ]
    }
   ],
   "source": [
    "project_root = Path('D:\\OneDrive\\Documents\\Personal Project Portfolio\\Facial-Emotion-Recognition-using-AffectNet-Dataset-with-PyTorch')\n",
    "main_data_path = Path('D:\\OneDrive\\Documents\\Personal Project Portfolio\\Facial-Emotion-Recognition-using-AffectNet-Dataset-with-PyTorch\\data\\labels.csv')"
   ]
  },
  {
   "cell_type": "code",
   "execution_count": 9,
   "id": "cc00722e",
   "metadata": {},
   "outputs": [
    {
     "data": {
      "text/html": [
       "<div>\n",
       "<style scoped>\n",
       "    .dataframe tbody tr th:only-of-type {\n",
       "        vertical-align: middle;\n",
       "    }\n",
       "\n",
       "    .dataframe tbody tr th {\n",
       "        vertical-align: top;\n",
       "    }\n",
       "\n",
       "    .dataframe thead th {\n",
       "        text-align: right;\n",
       "    }\n",
       "</style>\n",
       "<table border=\"1\" class=\"dataframe\">\n",
       "  <thead>\n",
       "    <tr style=\"text-align: right;\">\n",
       "      <th></th>\n",
       "      <th>pth</th>\n",
       "      <th>label</th>\n",
       "    </tr>\n",
       "  </thead>\n",
       "  <tbody>\n",
       "    <tr>\n",
       "      <th>0</th>\n",
       "      <td>anger/image0000006.jpg</td>\n",
       "      <td>surprise</td>\n",
       "    </tr>\n",
       "    <tr>\n",
       "      <th>1</th>\n",
       "      <td>anger/image0000007.jpg</td>\n",
       "      <td>anger</td>\n",
       "    </tr>\n",
       "    <tr>\n",
       "      <th>2</th>\n",
       "      <td>anger/image0000012.jpg</td>\n",
       "      <td>anger</td>\n",
       "    </tr>\n",
       "    <tr>\n",
       "      <th>3</th>\n",
       "      <td>anger/image0000035.jpg</td>\n",
       "      <td>fear</td>\n",
       "    </tr>\n",
       "    <tr>\n",
       "      <th>4</th>\n",
       "      <td>anger/image0000060.jpg</td>\n",
       "      <td>anger</td>\n",
       "    </tr>\n",
       "    <tr>\n",
       "      <th>...</th>\n",
       "      <td>...</td>\n",
       "      <td>...</td>\n",
       "    </tr>\n",
       "    <tr>\n",
       "      <th>30997</th>\n",
       "      <td>surprise/image0034961.jpg</td>\n",
       "      <td>surprise</td>\n",
       "    </tr>\n",
       "    <tr>\n",
       "      <th>30998</th>\n",
       "      <td>surprise/image0034966.jpg</td>\n",
       "      <td>surprise</td>\n",
       "    </tr>\n",
       "    <tr>\n",
       "      <th>30999</th>\n",
       "      <td>surprise/image0034973.jpg</td>\n",
       "      <td>neutral</td>\n",
       "    </tr>\n",
       "    <tr>\n",
       "      <th>31000</th>\n",
       "      <td>surprise/image0034977.jpg</td>\n",
       "      <td>surprise</td>\n",
       "    </tr>\n",
       "    <tr>\n",
       "      <th>31001</th>\n",
       "      <td>surprise/image0042075.jpg</td>\n",
       "      <td>disgust</td>\n",
       "    </tr>\n",
       "  </tbody>\n",
       "</table>\n",
       "<p>31002 rows × 2 columns</p>\n",
       "</div>"
      ],
      "text/plain": [
       "                             pth     label\n",
       "0         anger/image0000006.jpg  surprise\n",
       "1         anger/image0000007.jpg     anger\n",
       "2         anger/image0000012.jpg     anger\n",
       "3         anger/image0000035.jpg      fear\n",
       "4         anger/image0000060.jpg     anger\n",
       "...                          ...       ...\n",
       "30997  surprise/image0034961.jpg  surprise\n",
       "30998  surprise/image0034966.jpg  surprise\n",
       "30999  surprise/image0034973.jpg   neutral\n",
       "31000  surprise/image0034977.jpg  surprise\n",
       "31001  surprise/image0042075.jpg   disgust\n",
       "\n",
       "[31002 rows x 2 columns]"
      ]
     },
     "execution_count": 9,
     "metadata": {},
     "output_type": "execute_result"
    }
   ],
   "source": [
    "data_csv = pd.read_csv(main_data_path)\n",
    "data_csv"
   ]
  },
  {
   "cell_type": "markdown",
   "id": "177d5c77",
   "metadata": {},
   "source": [
    "From the above, it is notifed that the labels are not fully matching the location of the images. We will correct this by creating new folders and putting the images in according to the labels."
   ]
  },
  {
   "cell_type": "code",
   "execution_count": 10,
   "id": "6674914b",
   "metadata": {},
   "outputs": [
    {
     "name": "stderr",
     "output_type": "stream",
     "text": [
      "<>:2: SyntaxWarning: invalid escape sequence '\\O'\n",
      "<>:2: SyntaxWarning: invalid escape sequence '\\O'\n",
      "C:\\Users\\admin\\AppData\\Local\\Temp\\ipykernel_17920\\1446863136.py:2: SyntaxWarning: invalid escape sequence '\\O'\n",
      "  new_data_path = Path('D:\\OneDrive\\Documents\\Personal Project Portfolio\\Facial-Emotion-Recognition-using-AffectNet-Dataset-with-PyTorch\\data_new')\n"
     ]
    }
   ],
   "source": [
    "# Create a new folder for data\n",
    "new_data_path = Path('D:\\OneDrive\\Documents\\Personal Project Portfolio\\Facial-Emotion-Recognition-using-AffectNet-Dataset-with-PyTorch\\data_new')\n",
    "\n",
    "new_data_path.mkdir(exist_ok=True)"
   ]
  },
  {
   "cell_type": "code",
   "execution_count": 13,
   "id": "7603b678",
   "metadata": {},
   "outputs": [],
   "source": [
    "# Create new image folder paths\n",
    "\n",
    "for col in data_csv['label']:\n",
    "    img_dir = new_data_path / col\n",
    "    img_dir.mkdir(exist_ok=True)"
   ]
  },
  {
   "cell_type": "code",
   "execution_count": 17,
   "id": "3288dacf",
   "metadata": {},
   "outputs": [
    {
     "data": {
      "text/html": [
       "<div>\n",
       "<style scoped>\n",
       "    .dataframe tbody tr th:only-of-type {\n",
       "        vertical-align: middle;\n",
       "    }\n",
       "\n",
       "    .dataframe tbody tr th {\n",
       "        vertical-align: top;\n",
       "    }\n",
       "\n",
       "    .dataframe thead th {\n",
       "        text-align: right;\n",
       "    }\n",
       "</style>\n",
       "<table border=\"1\" class=\"dataframe\">\n",
       "  <thead>\n",
       "    <tr style=\"text-align: right;\">\n",
       "      <th></th>\n",
       "      <th>pth</th>\n",
       "      <th>label</th>\n",
       "    </tr>\n",
       "  </thead>\n",
       "  <tbody>\n",
       "    <tr>\n",
       "      <th>0</th>\n",
       "      <td>anger/image0000006.jpg</td>\n",
       "      <td>surprise</td>\n",
       "    </tr>\n",
       "    <tr>\n",
       "      <th>1</th>\n",
       "      <td>anger/image0000007.jpg</td>\n",
       "      <td>anger</td>\n",
       "    </tr>\n",
       "  </tbody>\n",
       "</table>\n",
       "</div>"
      ],
      "text/plain": [
       "                      pth     label\n",
       "0  anger/image0000006.jpg  surprise\n",
       "1  anger/image0000007.jpg     anger"
      ]
     },
     "execution_count": 17,
     "metadata": {},
     "output_type": "execute_result"
    }
   ],
   "source": [
    "data_csv.head(2)"
   ]
  },
  {
   "cell_type": "code",
   "execution_count": 35,
   "id": "86467b84",
   "metadata": {},
   "outputs": [],
   "source": [
    "import shutil\n",
    "for col in zip(data_csv['pth'], data_csv['label']):\n",
    "    shutil.copy(project_root / 'data' / col[0], new_data_path / col[1] )"
   ]
  },
  {
   "cell_type": "code",
   "execution_count": null,
   "id": "78ea7c25",
   "metadata": {},
   "outputs": [
    {
     "name": "stdout",
     "output_type": "stream",
     "text": [
      "\u001b[1;31mType:\u001b[0m        module\n",
      "\u001b[1;31mString form:\u001b[0m <module 'shutil' from 'd:\\\\OneDrive\\\\Documents\\\\Personal Project Portfolio\\\\Personal Portfolio Webpage\\\\venv\\\\Lib\\\\shutil.py'>\n",
      "\u001b[1;31mFile:\u001b[0m        d:\\onedrive\\documents\\personal project portfolio\\personal portfolio webpage\\venv\\lib\\shutil.py\n",
      "\u001b[1;31mDocstring:\u001b[0m  \n",
      "Utility functions for copying and archiving files and directory trees.\n",
      "\n",
      "XXX The functions here don't copy the resource fork or other metadata on Mac."
     ]
    }
   ],
   "source": []
  },
  {
   "cell_type": "code",
   "execution_count": null,
   "id": "78be0b3a",
   "metadata": {},
   "outputs": [],
   "source": []
  }
 ],
 "metadata": {
  "kernelspec": {
   "display_name": "Python 3",
   "language": "python",
   "name": "python3"
  },
  "language_info": {
   "codemirror_mode": {
    "name": "ipython",
    "version": 3
   },
   "file_extension": ".py",
   "mimetype": "text/x-python",
   "name": "python",
   "nbconvert_exporter": "python",
   "pygments_lexer": "ipython3",
   "version": "3.13.0"
  }
 },
 "nbformat": 4,
 "nbformat_minor": 5
}
